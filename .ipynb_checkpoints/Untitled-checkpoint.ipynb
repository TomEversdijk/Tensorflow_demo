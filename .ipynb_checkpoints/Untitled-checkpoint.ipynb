{
 "cells": [
  {
   "cell_type": "markdown",
   "metadata": {},
   "source": [
    "# Tensorflow demo"
   ]
  },
  {
   "cell_type": "markdown",
   "metadata": {},
   "source": [
    "In this demo we will get familiar tensorflow:keras: https://keras.io/\n"
   ]
  },
  {
   "cell_type": "markdown",
   "metadata": {},
   "source": [
    "First we do all the imports"
   ]
  },
  {
   "cell_type": "code",
   "execution_count": 1,
   "metadata": {},
   "outputs": [],
   "source": [
    "import numpy as np\n",
    "import tensorflow.keras.backend as K\n",
    "from tensorflow.keras import Sequential, losses, optimizers, utils\n",
    "from tensorflow.keras.layers import Dense, Conv2D, Flatten, MaxPooling2D, Dropout\n",
    "from tensorflow.keras.datasets import mnist\n",
    "from tensorflow.keras.models import load_model, save_model\n",
    "from matplotlib import pyplot as plt\n",
    "import random"
   ]
  },
  {
   "cell_type": "markdown",
   "metadata": {},
   "source": [
    "Next we will create a model.\n",
    "- The input shape will 1x28x28 because the image is 28x28\n",
    "    - Activation:\n",
    "        - relu: Hidden layer ot use\n",
    "        - softmax: Output layer by classification\n",
    "- Conv2D: is a convolutional 2D layer that will be used as an input layer\n",
    "- MaxPooling2D: is a pooling layer\n",
    "- Dropout: will randomly set some weight to 0, this can be used to enhance precision\n",
    "    - Percentage of weights that should be dropped\n",
    "- Flatten: Will flatten our 2D shape into a 1D shape\n",
    "- Dense: A filly connected layer\n",
    "- Compile: The neural network will compile into a tensorflow graph\n",
    "    - loss: the used loss function (most of the time: root mean squared error)\n",
    "    - optimizer: The used optimizer (most of the time: sgd = Stochastic gradient descent "
   ]
  },
  {
   "cell_type": "code",
   "execution_count": 2,
   "metadata": {},
   "outputs": [],
   "source": [
    "def create_model():\n",
    "    if K.image_data_format() == 'channels_first':\n",
    "        input_shape = (1, 28, 28)  # (1, img_rows, img_cols)\n",
    "    else:\n",
    "        input_shape = (28, 28, 1)  # (img_rows, img_cols, 1)\n",
    "    model = Sequential()\n",
    "    model.add(Conv2D(32, kernel_size=(3, 3), activation='relu', input_shape=input_shape))\n",
    "    model.add(Conv2D(64, (3, 3), activation='relu'))\n",
    "    model.add(MaxPooling2D(pool_size=(2, 2)))\n",
    "    model.add(Dropout(0.25))\n",
    "    model.add(Flatten())\n",
    "    model.add(Dense(128, activation='relu'))\n",
    "    model.add(Dropout(0.5))\n",
    "    model.add(Dense(10, activation='softmax'))\n",
    "    model.compile(loss=losses.categorical_crossentropy,\n",
    "                  optimizer=\"sgd\",\n",
    "                  metrics=['accuracy'])\n",
    "    return model"
   ]
  },
  {
   "cell_type": "markdown",
   "metadata": {},
   "source": [
    "Preprocessing: We have to prepare the X & Y data"
   ]
  },
  {
   "cell_type": "code",
   "execution_count": 3,
   "metadata": {},
   "outputs": [],
   "source": [
    "def prepare_X_data(x_unprepared_data, printing=True):\n",
    "    if printing:\n",
    "        print(\"unprepared X_shape:\" + str(x_unprepared_data.shape))\n",
    "\n",
    "    img_rows = x_unprepared_data.shape[1]\n",
    "    img_cols = x_unprepared_data.shape[2]\n",
    "\n",
    "    if K.image_data_format() == 'channels_first':\n",
    "        x_data = x_unprepared_data.reshape(x_unprepared_data.shape[0], 1, img_rows, img_cols)\n",
    "    else:\n",
    "        x_data = x_unprepared_data.reshape(x_unprepared_data.shape[0], img_rows, img_cols, 1)\n",
    "\n",
    "    x_data = x_data.astype('float32')\n",
    "    x_data /= 255\n",
    "    if printing:\n",
    "        print('prepared X_data shape:', x_data.shape)\n",
    "        print(\"\")\n",
    "    return x_data\n",
    "\n",
    "def prepare_Y_data(y_unpreprared_data, printing=True):\n",
    "    if printing:\n",
    "        print(\"unprepared Y_shape:\" + str(y_unpreprared_data.shape))\n",
    "    y_data = utils.to_categorical(y_unpreprared_data, 10)\n",
    "    if printing:\n",
    "        print('prepared Y_data shape:', y_data.shape)\n",
    "        print(\"\")\n",
    "    return y_data"
   ]
  },
  {
   "cell_type": "markdown",
   "metadata": {},
   "source": [
    "Next we create a method to randomly select a test item. This test item will be predicted and matched against the ground truth"
   ]
  },
  {
   "cell_type": "code",
   "execution_count": 4,
   "metadata": {},
   "outputs": [],
   "source": [
    "def random_predict(model):\n",
    "    (_, _), (x_test, y_test) = mnist.load_data()\n",
    "    index = random.randint(0, len(x_test) - 1)\n",
    "    X = x_test[index]\n",
    "    print(\"Input: \" + str(X))\n",
    "    image = np.array(X, dtype='float')\n",
    "    pixels = image.reshape((28, 28))\n",
    "    plt.imshow(pixels, cmap='gray')\n",
    "    plt.show()\n",
    "    X = prepare_X_data(x_unprepared_data=np.array([X]),printing=False)\n",
    "    prediction = model.predict(X)\n",
    "    print(\"Prediction array: \" + str(prediction))\n",
    "    print(\"Prediction: \" + str(np.argmax(prediction)))\n",
    "    print(\"Ground truth: \" + str(y_test[index]))\n",
    "    print(\"\")"
   ]
  },
  {
   "cell_type": "markdown",
   "metadata": {},
   "source": [
    "We combine the above methods to train the model. \n",
    "Loading de MNIST-dataset and split this dataset into training and testing, this method will only use the training data.\n",
    "After training we will save the model in order to not lose our training progression."
   ]
  },
  {
   "cell_type": "code",
   "execution_count": 5,
   "metadata": {},
   "outputs": [],
   "source": [
    "def train_model(model):\n",
    "    (x_train, y_train), (_, _) = mnist.load_data()\n",
    "    x_prep_train = prepare_X_data(x_unprepared_data=x_train)\n",
    "    y_prep_train = prepare_Y_data(y_unpreprared_data=y_train)\n",
    "    model.fit(x_prep_train, y_prep_train, batch_size=128, epochs=12, verbose=1)\n",
    "    print(\"save model\")\n",
    "    print(\"\")\n",
    "    save_model(model=model, filepath=\"example_model.h5\")"
   ]
  },
  {
   "cell_type": "markdown",
   "metadata": {},
   "source": [
    "After training we have to evaluate our training model with the test set."
   ]
  },
  {
   "cell_type": "code",
   "execution_count": 6,
   "metadata": {},
   "outputs": [],
   "source": [
    "def eval_model(model):\n",
    "    (_, _), (x_test, y_test) = mnist.load_data()\n",
    "    x_prep_test = prepare_X_data(x_unprepared_data=x_test, printing=False)\n",
    "    y_prep_test = prepare_Y_data(y_unpreprared_data=y_test, printing=False)\n",
    "    score = model.evaluate(x_prep_test, y_prep_test, verbose=0)\n",
    "    print('Test loss:', score[0])\n",
    "    print('Test accuracy:', score[1])\n",
    "    print(\"\")"
   ]
  },
  {
   "cell_type": "markdown",
   "metadata": {},
   "source": [
    "No we can use all the methods to build, train and test the model. \n",
    "10 randomly selected items will be predicted to see the prediction output"
   ]
  },
  {
   "cell_type": "code",
   "execution_count": 7,
   "metadata": {
    "scrolled": false
   },
   "outputs": [
    {
     "name": "stdout",
     "output_type": "stream",
     "text": [
      "Model: \"sequential\"\n",
      "_________________________________________________________________\n",
      "Layer (type)                 Output Shape              Param #   \n",
      "=================================================================\n",
      "conv2d (Conv2D)              (None, 26, 26, 32)        320       \n",
      "_________________________________________________________________\n",
      "conv2d_1 (Conv2D)            (None, 24, 24, 64)        18496     \n",
      "_________________________________________________________________\n",
      "max_pooling2d (MaxPooling2D) (None, 12, 12, 64)        0         \n",
      "_________________________________________________________________\n",
      "dropout (Dropout)            (None, 12, 12, 64)        0         \n",
      "_________________________________________________________________\n",
      "flatten (Flatten)            (None, 9216)              0         \n",
      "_________________________________________________________________\n",
      "dense (Dense)                (None, 128)               1179776   \n",
      "_________________________________________________________________\n",
      "dropout_1 (Dropout)          (None, 128)               0         \n",
      "_________________________________________________________________\n",
      "dense_1 (Dense)              (None, 10)                1290      \n",
      "=================================================================\n",
      "Total params: 1,199,882\n",
      "Trainable params: 1,199,882\n",
      "Non-trainable params: 0\n",
      "_________________________________________________________________\n",
      "Test loss: 0.10477709003351629\n",
      "Test accuracy: 0.9686\n",
      "\n"
     ]
    },
    {
     "data": {
      "image/png": "[encoded data removed]",
      "text/plain": [
       "<Figure size 432x288 with 1 Axes>"
      ]
     },
     "metadata": {
      "needs_background": "light"
     },
     "output_type": "display_data"
    },
    {
     "name": "stdout",
     "output_type": "stream",
     "text": [
      "Prediction array: [[7.7910343e-05 1.1704039e-06 4.4083176e-08 1.7200190e-07 6.4809014e-06\n",
      "  9.9940467e-01 4.9848759e-06 8.5607113e-05 4.1874725e-04 1.0853902e-07]]\n",
      "Prediction: 5\n",
      "Ground truth: 5\n",
      "\n"
     ]
    },
    {
     "data": {
      "image/png": "[encoded data removed]",
      "text/plain": [
       "<Figure size 432x288 with 1 Axes>"
      ]
     },
     "metadata": {
      "needs_background": "light"
     },
     "output_type": "display_data"
    },
    {
     "name": "stdout",
     "output_type": "stream",
     "text": [
      "Prediction array: [[6.4701055e-07 5.0141948e-06 1.7763849e-05 1.2817237e-04 2.8184615e-03\n",
      "  6.6352954e-06 2.3473964e-07 4.2817742e-02 1.4078202e-04 9.5406455e-01]]\n",
      "Prediction: 9\n",
      "Ground truth: 9\n",
      "\n"
     ]
    },
    {
     "data": {
      "image/png": "[encoded data removed]",
      "text/plain": [
       "<Figure size 432x288 with 1 Axes>"
      ]
     },
     "metadata": {
      "needs_background": "light"
     },
     "output_type": "display_data"
    },
    {
     "name": "stdout",
     "output_type": "stream",
     "text": [
      "Prediction array: [[9.9205714e-01 1.0171527e-05 7.2216993e-04 8.6136633e-06 4.5064182e-04\n",
      "  5.0657068e-04 1.6068619e-04 8.3235797e-04 1.9735846e-04 5.0542196e-03]]\n",
      "Prediction: 0\n",
      "Ground truth: 0\n",
      "\n"
     ]
    },
    {
     "data": {
      "image/png": "[encoded data removed]",
      "text/plain": [
       "<Figure size 432x288 with 1 Axes>"
      ]
     },
     "metadata": {
      "needs_background": "light"
     },
     "output_type": "display_data"
    },
    {
     "name": "stdout",
     "output_type": "stream",
     "text": [
      "Prediction array: [[9.9985993e-01 9.1022639e-07 1.3109317e-05 7.5604802e-08 8.7384016e-08\n",
      "  2.6182290e-05 4.5103199e-05 4.5443554e-05 1.0792714e-06 7.9272386e-06]]\n",
      "Prediction: 0\n",
      "Ground truth: 0\n",
      "\n"
     ]
    },
    {
     "data": {
      "image/png": "[encoded data removed]",
      "text/plain": [
       "<Figure size 432x288 with 1 Axes>"
      ]
     },
     "metadata": {
      "needs_background": "light"
     },
     "output_type": "display_data"
    },
    {
     "name": "stdout",
     "output_type": "stream",
     "text": [
      "Prediction array: [[9.9999976e-01 3.1173766e-10 5.0508568e-08 3.5928382e-10 3.1124336e-10\n",
      "  1.5073249e-07 6.7582091e-09 1.7041911e-07 7.7447904e-10 3.0681250e-08]]\n",
      "Prediction: 0\n",
      "Ground truth: 0\n",
      "\n"
     ]
    },
    {
     "data": {
      "image/png": "[encoded data removed]",
      "text/plain": [
       "<Figure size 432x288 with 1 Axes>"
      ]
     },
     "metadata": {
      "needs_background": "light"
     },
     "output_type": "display_data"
    },
    {
     "name": "stdout",
     "output_type": "stream",
     "text": [
      "Prediction array: [[2.0166220e-07 2.4547134e-10 3.0849594e-11 1.2840575e-09 1.9072748e-10\n",
      "  9.9999714e-01 4.5878412e-08 6.0723856e-12 2.6288760e-06 9.1566560e-10]]\n",
      "Prediction: 5\n",
      "Ground truth: 5\n",
      "\n"
     ]
    },
    {
     "data": {
      "image/png": "[encoded data removed]",
      "text/plain": [
       "<Figure size 432x288 with 1 Axes>"
      ]
     },
     "metadata": {
      "needs_background": "light"
     },
     "output_type": "display_data"
    },
    {
     "name": "stdout",
     "output_type": "stream",
     "text": [
      "Prediction array: [[3.5825611e-09 1.7208516e-06 9.9987745e-01 1.0025814e-04 4.5613162e-09\n",
      "  3.4159179e-08 2.9067442e-07 1.8655805e-05 1.6796148e-06 3.8677459e-08]]\n",
      "Prediction: 2\n",
      "Ground truth: 2\n",
      "\n"
     ]
    },
    {
     "data": {
      "image/png": "[encoded data removed]",
      "text/plain": [
       "<Figure size 432x288 with 1 Axes>"
      ]
     },
     "metadata": {
      "needs_background": "light"
     },
     "output_type": "display_data"
    },
    {
     "name": "stdout",
     "output_type": "stream",
     "text": [
      "Prediction array: [[4.7989143e-08 1.6364733e-09 1.1604720e-11 1.6496979e-06 1.6091520e-09\n",
      "  9.9998868e-01 1.2979571e-08 8.0388144e-12 1.3456579e-07 9.4972411e-06]]\n",
      "Prediction: 5\n",
      "Ground truth: 5\n",
      "\n"
     ]
    },
    {
     "data": {
      "image/png": "[encoded data removed]",
      "text/plain": [
       "<Figure size 432x288 with 1 Axes>"
      ]
     },
     "metadata": {
      "needs_background": "light"
     },
     "output_type": "display_data"
    },
    {
     "name": "stdout",
     "output_type": "stream",
     "text": [
      "Prediction array: [[1.6920692e-06 9.9927932e-01 4.8012880e-05 4.2540141e-05 1.9481515e-05\n",
      "  4.9367404e-06 4.2180720e-05 1.0888058e-05 4.5910152e-04 9.1955779e-05]]\n",
      "Prediction: 1\n",
      "Ground truth: 1\n",
      "\n"
     ]
    },
    {
     "data": {
      "image/png": "[encoded data removed]",
      "text/plain": [
       "<Figure size 432x288 with 1 Axes>"
      ]
     },
     "metadata": {
      "needs_background": "light"
     },
     "output_type": "display_data"
    },
    {
     "name": "stdout",
     "output_type": "stream",
     "text": [
      "Prediction array: [[1.27657347e-06 9.99613822e-01 6.28599300e-05 1.55061025e-05\n",
      "  1.22374295e-05 5.60497483e-06 8.44005444e-06 2.24289353e-04\n",
      "  5.12478618e-05 4.59226294e-06]]\n",
      "Prediction: 1\n",
      "Ground truth: 1\n",
      "\n"
     ]
    }
   ],
   "source": [
    "model = create_model()\n",
    "model.summary()\n",
    "# train_model(model=model)\n",
    "model = load_model(\"example_model.h5\")\n",
    "eval_model(model)\n",
    "for _ in range(10):\n",
    "    random_predict(model)"
   ]
  },
  {
   "cell_type": "markdown",
   "metadata": {},
   "source": [
    "A correct example:"
   ]
  },
  {
   "cell_type": "code",
   "execution_count": 8,
   "metadata": {},
   "outputs": [
    {
     "data": {
      "image/png": "[encoded data removed]",
      "text/plain": [
       "<Figure size 432x288 with 1 Axes>"
      ]
     },
     "metadata": {
      "needs_background": "light"
     },
     "output_type": "display_data"
    },
    {
     "name": "stdout",
     "output_type": "stream",
     "text": [
      "Prediction array: [[6.0280847e-05 3.1808595e-04 9.9914527e-01 4.1767690e-04 1.3485847e-09\n",
      "  1.5691418e-05 2.4972935e-05 1.2815385e-08 1.7830731e-05 2.6881009e-09]]\n",
      "Prediction: 2\n",
      "Ground truth: 2\n"
     ]
    }
   ],
   "source": [
    "(_, _), (x_test, y_test) = mnist.load_data()\n",
    "image = x_test[1]\n",
    "image = np.array(image, dtype='float')\n",
    "pixels = image.reshape((28, 28))\n",
    "plt.imshow(pixels, cmap='gray')\n",
    "plt.show()\n",
    "Y = prepare_X_data(x_unprepared_data=np.array([image]), printing=False)\n",
    "prediction = model.predict(Y)\n",
    "print(\"Prediction array: \" + str(prediction))\n",
    "print(\"Prediction: \" + str(np.argmax(prediction)))\n",
    "print(\"Ground truth: \" + str(y_test[1]))"
   ]
  },
  {
   "cell_type": "markdown",
   "metadata": {},
   "source": [
    "A incorrect example:"
   ]
  },
  {
   "cell_type": "code",
   "execution_count": 9,
   "metadata": {},
   "outputs": [
    {
     "data": {
      "image/png": "[encoded data removed]",
      "text/plain": [
       "<Figure size 432x288 with 1 Axes>"
      ]
     },
     "metadata": {
      "needs_background": "light"
     },
     "output_type": "display_data"
    },
    {
     "name": "stdout",
     "output_type": "stream",
     "text": [
      "\n",
      "Prediction array: [[6.0280847e-05 3.1808595e-04 9.9914527e-01 4.1767690e-04 1.3485847e-09\n",
      "  1.5691418e-05 2.4972935e-05 1.2815385e-08 1.7830731e-05 2.6881009e-09]]\n",
      "Prediction: 2\n",
      "Ground truth: 8\n"
     ]
    }
   ],
   "source": [
    "(_, _), (x_test, y_test) = mnist.load_data()\n",
    "first_image = x_test[591]\n",
    "first_image = np.array(first_image, dtype='float')\n",
    "pixels = first_image.reshape((28, 28))\n",
    "plt.imshow(pixels, cmap='gray')\n",
    "plt.show()\n",
    "Y = prepare_X_data(x_unprepared_data=np.array([image]),printing=False)\n",
    "prediction = model.predict(Y)\n",
    "print()\n",
    "print(\"Prediction array: \" + str(prediction))\n",
    "print(\"Prediction: \" + str(np.argmax(prediction)))\n",
    "print(\"Ground truth: \" + str(y_test[591]))"
   ]
  },
  {
   "cell_type": "markdown",
   "metadata": {},
   "source": [
    "In most cases the above functions will be enough. \n",
    "However if we have enormous data we cannot load into memory, we have to make use of a generator as show below."
   ]
  },
  {
   "cell_type": "markdown",
   "metadata": {},
   "source": [
    "A generator can return results when the result is needed. If the next result is queried, the generator will calculate the next result and return this next result. \n",
    "First we define a helper function to loop over a list indefinite (get_part_of_list)"
   ]
  },
  {
   "cell_type": "code",
   "execution_count": 10,
   "metadata": {},
   "outputs": [],
   "source": [
    "def get_part_of_list(lst, start, items):\n",
    "    end = len(lst)\n",
    "    if start + items > end:\n",
    "        missing = start + items - end\n",
    "        result = lst[start:end]\n",
    "        result = np.concatenate((result, lst[:missing]))\n",
    "        return result, missing\n",
    "    else:\n",
    "        return lst[start:start + items], start + items\n",
    "\n",
    "\n",
    "def train_generator(iterations=500):\n",
    "    (x_train, y_train), (_, _) = mnist.load_data()  # Do not load all data in memory at once!\n",
    "    iteration = 0\n",
    "    start = 0\n",
    "    batch_size = 128\n",
    "    while True:\n",
    "        if iterations == iteration:\n",
    "            break\n",
    "        x_unprep_subset, _ = get_part_of_list(lst=x_train, start=start, items=batch_size)\n",
    "        y_unprep_subset, next_start = get_part_of_list(lst=y_train, start=start, items=batch_size)\n",
    "        start = next_start\n",
    "        x_prep_subset = prepare_X_data(x_unprepared_data=x_unprep_subset, printing=False)\n",
    "        y_prep_subset = prepare_Y_data(y_unpreprared_data=y_unprep_subset, printing=False)\n",
    "        yield x_prep_subset, y_prep_subset\n",
    "        iteration += 1\n",
    "\n",
    "\n",
    "def test_generator(iterations=100):\n",
    "    (_, _), (x_test, y_test) = mnist.load_data()  # Do not load all data in memory at once!\n",
    "    iteration = 0\n",
    "    start = 0\n",
    "    batch_size = 128\n",
    "    while True:\n",
    "        if iterations == iteration:\n",
    "            break\n",
    "        x_unprep_subset, _ = get_part_of_list(lst=x_test, start=start, items=batch_size)\n",
    "        y_unprep_subset, next_start = get_part_of_list(lst=y_test, start=start, items=batch_size)\n",
    "        start = next_start\n",
    "        x_prep_subset = prepare_X_data(x_unprepared_data=x_unprep_subset,printing=False)\n",
    "        y_prep_subset = prepare_Y_data(y_unpreprared_data=y_unprep_subset, printing=False)\n",
    "        yield x_prep_subset, y_prep_subset\n",
    "        iteration += 1\n",
    "    "
   ]
  },
  {
   "cell_type": "markdown",
   "metadata": {},
   "source": [
    "Next we will redefine our training & testing functions to use the generator:"
   ]
  },
  {
   "cell_type": "code",
   "execution_count": 11,
   "metadata": {},
   "outputs": [],
   "source": [
    "def train_model_with_generator(model):\n",
    "    train_gen = train_generator(iterations=500*12)\n",
    "    model.fit(x=train_gen)\n",
    "    print(\"save model\")\n",
    "    print(\"\")\n",
    "    save_model(model=model, filepath=\"example_model_generator.h5\")\n",
    "\n",
    "\n",
    "def eval_model_with_generator(model):\n",
    "    test_gen = test_generator(iterations=100)\n",
    "    score = model.evaluate(x=test_gen)\n",
    "    print('Test loss:', score[0])\n",
    "    print('Test accuracy:', score[1])"
   ]
  },
  {
   "cell_type": "markdown",
   "metadata": {},
   "source": [
    "Finally we will combine the generator functions to train and test the model."
   ]
  },
  {
   "cell_type": "code",
   "execution_count": 12,
   "metadata": {},
   "outputs": [
    {
     "name": "stdout",
     "output_type": "stream",
     "text": [
      "WARNING:tensorflow:sample_weight modes were coerced from\n",
      "  ...\n",
      "    to  \n",
      "  ['...']\n",
      "    100/Unknown - 4s 45ms/step - loss: 0.1110 - accuracy: 0.9680Test loss: 0.11096267261076719\n",
      "Test accuracy: 0.96796876\n"
     ]
    },
    {
     "data": {
      "image/png": "[encoded data removed]",
      "text/plain": [
       "<Figure size 432x288 with 1 Axes>"
      ]
     },
     "metadata": {
      "needs_background": "light"
     },
     "output_type": "display_data"
    },
    {
     "name": "stdout",
     "output_type": "stream",
     "text": [
      "Prediction array: [[1.7896896e-06 2.1241217e-04 8.5235079e-05 7.6318887e-05 1.5606600e-08\n",
      "  1.5122975e-03 2.9072759e-03 1.3019331e-07 9.9519807e-01 6.5676986e-06]]\n",
      "Prediction: 8\n",
      "Ground truth: 8\n",
      "\n"
     ]
    },
    {
     "data": {
      "image/png": "[encoded data removed]",
      "text/plain": [
       "<Figure size 432x288 with 1 Axes>"
      ]
     },
     "metadata": {
      "needs_background": "light"
     },
     "output_type": "display_data"
    },
    {
     "name": "stdout",
     "output_type": "stream",
     "text": [
      "Prediction array: [[2.0189122e-05 3.5445955e-05 8.2211643e-01 9.0214002e-05 2.2917017e-02\n",
      "  8.0841524e-04 1.5396222e-01 2.6429596e-05 1.4635298e-05 8.8787547e-06]]\n",
      "Prediction: 2\n",
      "Ground truth: 4\n",
      "\n"
     ]
    },
    {
     "data": {
      "image/png": "[encoded data removed]",
      "text/plain": [
       "<Figure size 432x288 with 1 Axes>"
      ]
     },
     "metadata": {
      "needs_background": "light"
     },
     "output_type": "display_data"
    },
    {
     "name": "stdout",
     "output_type": "stream",
     "text": [
      "Prediction array: [[8.63631016e-08 1.29418222e-05 9.99731481e-01 2.32910490e-04\n",
      "  2.89800379e-08 3.95741466e-07 2.71942696e-07 1.23001955e-05\n",
      "  9.81454195e-06 7.73312259e-09]]\n",
      "Prediction: 2\n",
      "Ground truth: 2\n",
      "\n"
     ]
    },
    {
     "data": {
      "image/png": "[encoded data removed]",
      "text/plain": [
       "<Figure size 432x288 with 1 Axes>"
      ]
     },
     "metadata": {
      "needs_background": "light"
     },
     "output_type": "display_data"
    },
    {
     "name": "stdout",
     "output_type": "stream",
     "text": [
      "Prediction array: [[6.3012340e-07 2.3021123e-06 1.8108923e-06 2.2827238e-05 6.7476214e-10\n",
      "  9.8388027e-06 4.5417540e-08 7.6127229e-09 9.9996018e-01 2.3251207e-06]]\n",
      "Prediction: 8\n",
      "Ground truth: 8\n",
      "\n"
     ]
    },
    {
     "data": {
      "image/png": "[encoded data removed]",
      "text/plain": [
       "<Figure size 432x288 with 1 Axes>"
      ]
     },
     "metadata": {
      "needs_background": "light"
     },
     "output_type": "display_data"
    },
    {
     "name": "stdout",
     "output_type": "stream",
     "text": [
      "Prediction array: [[2.4262067e-07 5.0185379e-03 9.8494071e-01 2.5318863e-03 1.1518058e-09\n",
      "  7.9796541e-07 2.8369425e-07 8.6930891e-07 7.5065442e-03 2.4310938e-07]]\n",
      "Prediction: 2\n",
      "Ground truth: 2\n",
      "\n"
     ]
    },
    {
     "data": {
      "image/png": "[encoded data removed]",
      "text/plain": [
       "<Figure size 432x288 with 1 Axes>"
      ]
     },
     "metadata": {
      "needs_background": "light"
     },
     "output_type": "display_data"
    },
    {
     "name": "stdout",
     "output_type": "stream",
     "text": [
      "Prediction array: [[6.1673586e-07 6.7924489e-06 2.4560008e-05 3.9664005e-08 9.4441828e-05\n",
      "  2.7385933e-04 9.9955970e-01 2.5248201e-07 3.6752037e-05 2.9799046e-06]]\n",
      "Prediction: 6\n",
      "Ground truth: 6\n",
      "\n"
     ]
    },
    {
     "data": {
      "image/png": "[encoded data removed]",
      "text/plain": [
       "<Figure size 432x288 with 1 Axes>"
      ]
     },
     "metadata": {
      "needs_background": "light"
     },
     "output_type": "display_data"
    },
    {
     "name": "stdout",
     "output_type": "stream",
     "text": [
      "Prediction array: [[1.3344450e-06 9.9958581e-01 2.4956609e-05 1.4139454e-05 8.1763610e-06\n",
      "  1.1031246e-06 1.3048025e-06 3.4610577e-05 3.1911727e-04 9.5568557e-06]]\n",
      "Prediction: 1\n",
      "Ground truth: 1\n",
      "\n"
     ]
    },
    {
     "data": {
      "image/png": "[encoded data removed]",
      "text/plain": [
       "<Figure size 432x288 with 1 Axes>"
      ]
     },
     "metadata": {
      "needs_background": "light"
     },
     "output_type": "display_data"
    },
    {
     "name": "stdout",
     "output_type": "stream",
     "text": [
      "Prediction array: [[3.0686163e-06 9.9949527e-01 5.5692919e-05 2.9822968e-06 2.5008369e-06\n",
      "  2.1948363e-06 5.4976476e-06 7.4607101e-06 4.1543649e-04 9.8955970e-06]]\n",
      "Prediction: 1\n",
      "Ground truth: 1\n",
      "\n"
     ]
    },
    {
     "data": {
      "image/png": "[encoded data removed]",
      "text/plain": [
       "<Figure size 432x288 with 1 Axes>"
      ]
     },
     "metadata": {
      "needs_background": "light"
     },
     "output_type": "display_data"
    },
    {
     "name": "stdout",
     "output_type": "stream",
     "text": [
      "Prediction array: [[9.9637932e-01 5.6811103e-08 5.0113802e-05 1.0717719e-08 7.3171771e-09\n",
      "  3.3802020e-03 1.2124760e-04 2.3790177e-05 2.1114209e-05 2.4172285e-05]]\n",
      "Prediction: 0\n",
      "Ground truth: 0\n",
      "\n"
     ]
    },
    {
     "data": {
      "image/png": "[encoded data removed]",
      "text/plain": [
       "<Figure size 432x288 with 1 Axes>"
      ]
     },
     "metadata": {
      "needs_background": "light"
     },
     "output_type": "display_data"
    },
    {
     "name": "stdout",
     "output_type": "stream",
     "text": [
      "Prediction array: [[1.2365476e-08 2.6298461e-05 9.9958175e-01 3.5945614e-04 3.3239161e-13\n",
      "  1.1811936e-07 3.1253251e-09 1.5115124e-10 3.2308533e-05 4.1800136e-11]]\n",
      "Prediction: 2\n",
      "Ground truth: 2\n",
      "\n"
     ]
    }
   ],
   "source": [
    "model = create_model()\n",
    "#train_model_with_generator(model=model)\n",
    "model = load_model(\"example_model_generator.h5\")\n",
    "eval_model_with_generator(model)\n",
    "for _ in range(10):\n",
    "    random_predict(model)"
   ]
  },
  {
   "cell_type": "code",
   "execution_count": null,
   "metadata": {},
   "outputs": [],
   "source": []
  },
  {
   "cell_type": "code",
   "execution_count": null,
   "metadata": {},
   "outputs": [],
   "source": []
  }
 ],
 "metadata": {
  "kernelspec": {
   "display_name": "tensorflow_demo_env",
   "language": "python",
   "name": "tensorflow_demo_env"
  },
  "language_info": {
   "codemirror_mode": {
    "name": "ipython",
    "version": 3
   },
   "file_extension": ".py",
   "mimetype": "text/x-python",
   "name": "python",
   "nbconvert_exporter": "python",
   "pygments_lexer": "ipython3",
   "version": "3.7.6"
  }
 },
 "nbformat": 4,
 "nbformat_minor": 4
}
